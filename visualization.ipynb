{
 "cells": [
  {
   "cell_type": "markdown",
   "metadata": {},
   "source": [
    "## 1. Configuration"
   ]
  },
  {
   "cell_type": "code",
   "execution_count": null,
   "metadata": {},
   "outputs": [],
   "source": [
    "import time\n",
    "import numpy as np\n",
    "import pylab as pl\n",
    "from sample import sampler"
   ]
  },
  {
   "cell_type": "markdown",
   "metadata": {},
   "source": [
    "## 2. Sampling"
   ]
  },
  {
   "cell_type": "code",
   "execution_count": null,
   "metadata": {},
   "outputs": [],
   "source": [
    "mock_tau = 100  # us\n",
    "number_of_waveforms = 4\n",
    "emitting_frequency = 200\n",
    "\n",
    "sampler.set_sampler('mock_sampler')\n",
    "sampler.set_sampler_value('mock_tau', mock_tau)\n",
    "\n",
    "sampler.measure(number_of_waveforms, emitting_frequency)"
   ]
  },
  {
   "cell_type": "code",
   "execution_count": null,
   "metadata": {},
   "outputs": [],
   "source": [
    "while sampler.is_measuring:\n",
    "    print('wait')\n",
    "    time.sleep(0.1)"
   ]
  },
  {
   "cell_type": "code",
   "execution_count": null,
   "metadata": {},
   "outputs": [],
   "source": [
    "result = sampler.query()"
   ]
  },
  {
   "cell_type": "code",
   "execution_count": null,
   "metadata": {
    "scrolled": true
   },
   "outputs": [],
   "source": [
    "pl.plot(result.time_line, result.wave)\n",
    "pl.plot(result.time_line, result.estimate)\n",
    "pl.show()"
   ]
  },
  {
   "cell_type": "code",
   "execution_count": null,
   "metadata": {},
   "outputs": [],
   "source": [
    "result.loss"
   ]
  },
  {
   "cell_type": "markdown",
   "metadata": {},
   "source": [
    "## 3. Auto Mode"
   ]
  },
  {
   "cell_type": "code",
   "execution_count": null,
   "metadata": {},
   "outputs": [],
   "source": [
    "mock_taus = [1, 10, 100, 1000, 10000]"
   ]
  },
  {
   "cell_type": "code",
   "execution_count": null,
   "metadata": {
    "scrolled": true
   },
   "outputs": [],
   "source": [
    "sampler.set_sampler('mock_sampler')\n",
    "\n",
    "for mock_tau in mock_taus:\n",
    "    sampler.set_sampler_value('mock_tau', mock_tau)\n",
    "\n",
    "    sampler.measure(number_of_waveforms=4, emitting_frequency=10, auto_mode=True)\n",
    "    while sampler.is_measuring:\n",
    "        time.sleep(0.1)\n",
    "    result = sampler.query()\n",
    "\n",
    "    diff_ratio = abs(result.tau - mock_tau) / mock_tau\n",
    "    print('Diff Ratio: {:.1f}%'.format(diff_ratio * 100))\n",
    "\n",
    "    pl.plot(result.time_line, result.wave)\n",
    "    pl.plot(result.time_line, result.estimate)\n",
    "    pl.show()"
   ]
  },
  {
   "cell_type": "markdown",
   "metadata": {},
   "source": [
    "## 4. Low Frequency"
   ]
  },
  {
   "cell_type": "code",
   "execution_count": null,
   "metadata": {},
   "outputs": [],
   "source": [
    "sampler.set_sampler('mock_sampler')\n",
    "\n",
    "mock_tau = 100000\n",
    "sampler.set_sampler_value('mock_tau', mock_tau)\n",
    "\n",
    "sampler.measure(number_of_waveforms=4, emitting_frequency=10, auto_mode=True)\n",
    "while sampler.is_measuring:\n",
    "    time.sleep(0.1)\n",
    "result = sampler.query()\n",
    "\n",
    "pl.plot(result.time_line, result.wave)\n",
    "pl.plot(result.time_line, result.estimate)\n",
    "pl.show()\n",
    "\n",
    "\n",
    "sampler.measure(number_of_waveforms=4, emitting_frequency=0.5, auto_mode=True)\n",
    "while sampler.is_measuring:\n",
    "    time.sleep(0.1)\n",
    "\n",
    "result = sampler.query()\n",
    "pl.plot(result.time_line, result.wave)\n",
    "pl.plot(result.time_line, result.estimate)\n",
    "pl.show()"
   ]
  },
  {
   "cell_type": "markdown",
   "metadata": {},
   "source": [
    "## 5. Real Sampler"
   ]
  },
  {
   "cell_type": "code",
   "execution_count": null,
   "metadata": {},
   "outputs": [],
   "source": [
    "try:\n",
    "    sampler.set_sampler('real_sampler')\n",
    "\n",
    "    sampler.measure(number_of_waveforms=4, emitting_frequency=0.5, auto_mode=True)\n",
    "    while sampler.is_measuring:\n",
    "        time.sleep(0.1)\n",
    "\n",
    "    result = sampler.query()\n",
    "    \n",
    "    if result.success:\n",
    "        pl.plot(result.time_line, result.wave)\n",
    "        pl.plot(result.time_line, result.estimate)\n",
    "        pl.show()\n",
    "\n",
    "        print(\"tau: {:.2f} us\".format(result.tau))\n",
    "        print(\"loss: {:f}\".format(result.loss))\n",
    "\n",
    "        epsilon = 9.66\n",
    "        rho = result.tau * (result.b + result.w) * 1e-4 / (result.b * epsilon * 8.854e-12)\n",
    "        print(\"rho: {:.3e}\".format(rho))\n",
    "    else:\n",
    "        print(\"Failed\")\n",
    "except sampler.Error as e:\n",
    "    print(\"Error: {}\".format(e))"
   ]
  },
  {
   "cell_type": "markdown",
   "metadata": {},
   "source": [
    "## 6. Low Voltage Margin"
   ]
  },
  {
   "cell_type": "code",
   "execution_count": null,
   "metadata": {},
   "outputs": [],
   "source": [
    "sampler.set_sampler('mock_sampler')\n",
    "\n",
    "mock_noise = 0.2\n",
    "sampler.set_sampler_value('mock_noise', mock_noise)\n",
    "\n",
    "mock_tau = 100000\n",
    "sampler.set_sampler_value('mock_tau', mock_tau)\n",
    "\n",
    "mock_v0, mock_v_inf = 1.0, 2.0\n",
    "sampler.set_sampler_value('mock_v0', mock_v0)\n",
    "sampler.set_sampler_value('mock_v_inf', mock_v_inf)"
   ]
  },
  {
   "cell_type": "code",
   "execution_count": null,
   "metadata": {},
   "outputs": [],
   "source": [
    "sampler.measure(number_of_waveforms=4, emitting_frequency=10, auto_mode=True)\n",
    "while sampler.is_measuring:\n",
    "    time.sleep(0.1)\n",
    "\n",
    "result = sampler.query()\n",
    "\n",
    "pl.plot(result.time_line, result.wave)\n",
    "pl.plot(result.time_line, result.estimate)\n",
    "pl.show()\n",
    "\n",
    "\n",
    "sampler.measure(number_of_waveforms=4, emitting_frequency=0.5, auto_mode=True)\n",
    "while sampler.is_measuring:\n",
    "    time.sleep(0.1)\n",
    "\n",
    "result = sampler.query()\n",
    "pl.plot(result.time_line, result.wave)\n",
    "pl.plot(result.time_line, result.estimate)\n",
    "pl.show()"
   ]
  },
  {
   "cell_type": "markdown",
   "metadata": {},
   "source": [
    "## 7. Wave Going Down"
   ]
  },
  {
   "cell_type": "code",
   "execution_count": null,
   "metadata": {},
   "outputs": [],
   "source": [
    "sampler.set_sampler('mock_sampler')\n",
    "\n",
    "mock_noise = 0.5\n",
    "sampler.set_sampler_value('mock_noise', mock_noise)\n",
    "\n",
    "mock_tau = 100000\n",
    "sampler.set_sampler_value('mock_tau', mock_tau)\n",
    "\n",
    "sampler.set_sampler_value('mock_is_going_down', 1.0)\n",
    "\n",
    "mock_v0, mock_v_inf = 1.0, 2.0\n",
    "sampler.set_sampler_value('mock_v0', mock_v0)\n",
    "sampler.set_sampler_value('mock_v_inf', mock_v_inf)"
   ]
  },
  {
   "cell_type": "code",
   "execution_count": null,
   "metadata": {},
   "outputs": [],
   "source": [
    "sampler.measure(number_of_waveforms=4, emitting_frequency=0.5, auto_mode=False)\n",
    "while sampler.is_measuring:\n",
    "    time.sleep(0.1)\n",
    "\n",
    "result = sampler.query()\n",
    "pl.plot(result.time_line, result.wave)\n",
    "pl.plot(result.time_line, result.estimate)\n",
    "pl.show()\n",
    "\n",
    "\n",
    "sampler.measure(number_of_waveforms=4, emitting_frequency=0.5, auto_mode=True)\n",
    "while sampler.is_measuring:\n",
    "    time.sleep(0.1)\n",
    "\n",
    "result = sampler.query()\n",
    "pl.plot(result.time_line, result.wave)\n",
    "pl.plot(result.time_line, result.estimate)\n",
    "pl.show()"
   ]
  },
  {
   "cell_type": "code",
   "execution_count": null,
   "metadata": {},
   "outputs": [],
   "source": []
  }
 ],
 "metadata": {
  "kernelspec": {
   "display_name": "Python 3",
   "language": "python",
   "name": "python3"
  },
  "language_info": {
   "codemirror_mode": {
    "name": "ipython",
    "version": 3
   },
   "file_extension": ".py",
   "mimetype": "text/x-python",
   "name": "python",
   "nbconvert_exporter": "python",
   "pygments_lexer": "ipython3",
   "version": "3.6.3"
  }
 },
 "nbformat": 4,
 "nbformat_minor": 2
}
